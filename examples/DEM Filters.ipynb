{
 "cells": [
  {
   "cell_type": "markdown",
   "metadata": {},
   "source": [
    "A number of geographic calculations are made on neighborhoods, often 3x3 (and sometimes larger) around a central pixel. For example, planar slope is calculated on a 3x3 neighborhood, as is the Topographic Roughness Index.  We aim to expand the number of these filters in the neilpy.filters module.\n",
    "\n",
    "These filters are generally aimed to be used as an ndi.filters.generic_filter.  This method of processing is generally not recommended for large datasets, and is intended to be used for rapid prototyping, testing, and for pedagogical purposes."
   ]
  },
  {
   "cell_type": "code",
   "execution_count": 1,
   "metadata": {},
   "outputs": [],
   "source": [
    "import neilpy\n",
    "import rasterio\n",
    "import numpy as np\n",
    "import scipy.ndimage as ndi\n",
    "from skimage.util import apply_parallel\n",
    "import matplotlib.pyplot as plt"
   ]
  },
  {
   "cell_type": "code",
   "execution_count": 3,
   "metadata": {},
   "outputs": [],
   "source": [
    "with rasterio.open('../sample_data/sample_dem.tif') as src:\n",
    "        Z = src.read(1)\n",
    "        Zt = src.transform\n",
    "        cellsize = Zt[0]"
   ]
  },
  {
   "cell_type": "markdown",
   "metadata": {},
   "source": [
    "## ESRI Local Planar Slope\n",
    "\n",
    "ESRI. 2017. <a href=\"http://desktop.arcgis.com/en/arcmap/10.5/tools/spatial-analyst-toolbox/how-slope-works.htm\">How Slope Works</a>."
   ]
  },
  {
   "cell_type": "code",
   "execution_count": null,
   "metadata": {},
   "outputs": [],
   "source": [
    "S = ndi.filters.generic_filter(Z,neilpy.esri_slope,size=3)\n",
    "S = S / cellsize\n",
    "S_deg = np.rad2deg(np.arctan(S))"
   ]
  },
  {
   "cell_type": "code",
   "execution_count": null,
   "metadata": {},
   "outputs": [],
   "source": [
    "plt.figure(figsize=((15,3)))\n",
    "plt.subplot(131)\n",
    "plt.imshow(Z,cmap='terrain',vmin=-500,vmax=2000)\n",
    "plt.title('Elevation')\n",
    "plt.subplot(132)\n",
    "plt.imshow(S,cmap='jet',vmin=0,vmax=np.percentile(S,99))\n",
    "plt.title('% Slope')\n",
    "plt.subplot(133)\n",
    "plt.hist(np.random.choice(S_deg.ravel(),10000),bins=50,density=1)\n",
    "plt.xlabel('slope (degrees)')\n",
    "plt.ylabel('% share')\n",
    "plt.show()"
   ]
  },
  {
   "cell_type": "markdown",
   "metadata": {},
   "source": [
    "## Terrain Ruggedness Index\n",
    "\n",
    "Riley et al. 1999. <a href=\"http://download.osgeo.org/qgis/doc/reference-docs/Terrain_Ruggedness_Index.pdf\">A Terrain Ruggedness Index that Quantifies Topographic Heterogeneity</a>."
   ]
  },
  {
   "cell_type": "code",
   "execution_count": null,
   "metadata": {},
   "outputs": [],
   "source": [
    "TRI = ndi.filters.generic_filter(Z,neilpy.filters.terrain_ruggedness,size=3)"
   ]
  },
  {
   "cell_type": "code",
   "execution_count": null,
   "metadata": {},
   "outputs": [],
   "source": [
    "plt.figure(figsize=((15,3)))\n",
    "plt.subplot(131)\n",
    "plt.imshow(Z,cmap='terrain',vmin=-500,vmax=2000)\n",
    "plt.title('Elevation')\n",
    "plt.subplot(132)\n",
    "plt.imshow(TRI,cmap='jet',vmin=0,vmax=np.percentile(TRI,99))\n",
    "plt.title('Terrain Ruggedness')\n",
    "plt.subplot(133)\n",
    "plt.hist(np.random.choice(TRI.ravel(),10000),bins=50,density=1)\n",
    "plt.xlabel('Terrain Ruggedness (m)')\n",
    "plt.ylabel('% share')\n",
    "plt.show()"
   ]
  },
  {
   "cell_type": "markdown",
   "metadata": {},
   "source": [
    "# Openness\n",
    "Yokoyama et al. 2003. <A target=\"_blank\" href=\"https://pdfs.semanticscholar.org/c3d9/a561fdb9e8c34a2b79152aea72b46090bb2e.pdf\">Visualizing Topography by Openness: A New Application of Image Processing to Digital Elevation Models</a>"
   ]
  },
  {
   "cell_type": "code",
   "execution_count": null,
   "metadata": {},
   "outputs": [],
   "source": [
    "lookup_pixels = 20\n",
    "O = ndi.filters.generic_filter(Z,neilpy.filters.openness,size=2*lookup_pixels+1,extra_keywords={'cellsize':cellsize})"
   ]
  },
  {
   "cell_type": "code",
   "execution_count": null,
   "metadata": {},
   "outputs": [],
   "source": [
    "plt.figure(figsize=((15,3)))\n",
    "plt.subplot(131)\n",
    "plt.imshow(Z,cmap='terrain',vmin=-500,vmax=2000)\n",
    "plt.title('Elevation')\n",
    "plt.subplot(132)\n",
    "plt.imshow(O,cmap='bone')\n",
    "plt.title('Positive Openness')\n",
    "plt.subplot(133)\n",
    "plt.hist(np.random.choice(O.ravel(),10000),bins=50,density=1)\n",
    "plt.xlabel('Positive Openness (deg)')\n",
    "plt.ylabel('% share')\n",
    "plt.show()"
   ]
  }
 ],
 "metadata": {
  "kernelspec": {
   "display_name": "Python 3",
   "language": "python",
   "name": "python3"
  },
  "language_info": {
   "codemirror_mode": {
    "name": "ipython",
    "version": 3
   },
   "file_extension": ".py",
   "mimetype": "text/x-python",
   "name": "python",
   "nbconvert_exporter": "python",
   "pygments_lexer": "ipython3",
   "version": "3.7.3"
  }
 },
 "nbformat": 4,
 "nbformat_minor": 2
}
